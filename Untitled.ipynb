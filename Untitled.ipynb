{
 "cells": [
  {
   "cell_type": "code",
   "execution_count": 2,
   "metadata": {},
   "outputs": [],
   "source": [
    "import numpy as np\n",
    "import pandas as pd"
   ]
  },
  {
   "cell_type": "code",
   "execution_count": 6,
   "metadata": {},
   "outputs": [],
   "source": [
    "data = pd.read_csv('example.csv')"
   ]
  },
  {
   "cell_type": "code",
   "execution_count": 7,
   "metadata": {},
   "outputs": [
    {
     "data": {
      "text/plain": [
       "<bound method NDFrame.head of     s06t01.la         0.0  44.14383333333333              la-nothing\n",
       "0   s06t01.la   44.143833          88.287667          la-object-pick\n",
       "1   s06t01.la   88.287667         132.431500  la-object-switch-hands\n",
       "2   s06t01.la  132.431500         176.575333        la-object-orient\n",
       "3   s06t01.la  176.575333         220.719167         la-object-place\n",
       "4   s06t01.la  220.719167         264.863000         la-object-carry\n",
       "5   s06t01.ra    0.000000          44.143833        ra-object-orient\n",
       "6   s06t01.ra   44.143833          88.287667  ra-object-switch-hands\n",
       "7   s06t01.ra   88.287667         132.431500         ra-object-place\n",
       "8   s06t01.ra  132.431500         176.575333         ra-object-carry\n",
       "9   s06t01.ra  176.575333         220.719167          ra-object-pick\n",
       "10  s06t01.ra  220.719167         264.863000              ra-nothing\n",
       "11  s06t02.la    0.000000          29.401667              la-nothing\n",
       "12  s06t02.la   29.401667          58.803333          la-object-pick\n",
       "13  s06t02.la   58.803333          88.205000  la-object-switch-hands\n",
       "14  s06t02.la   88.205000         117.606667        la-object-orient\n",
       "15  s06t02.la  117.606667         147.008333         la-object-place\n",
       "16  s06t02.la  147.008333         176.410000         la-object-carry\n",
       "17  s06t02.ra    0.000000          29.401667        ra-object-orient\n",
       "18  s06t02.ra   29.401667          58.803333  ra-object-switch-hands\n",
       "19  s06t02.ra   58.803333          88.205000         ra-object-place\n",
       "20  s06t02.ra   88.205000         117.606667         ra-object-carry\n",
       "21  s06t02.ra  117.606667         147.008333          ra-object-pick\n",
       "22  s06t02.ra  147.008333         176.410000              ra-nothing\n",
       "23  s06t03.la    0.000000          28.598500              la-nothing\n",
       "24  s06t03.la   28.598500          57.197000          la-object-pick\n",
       "25  s06t03.la   57.197000          85.795500  la-object-switch-hands\n",
       "26  s06t03.la   85.795500         114.394000        la-object-orient\n",
       "27  s06t03.la  114.394000         142.992500         la-object-place\n",
       "28  s06t03.la  142.992500         171.591000         la-object-carry\n",
       "29  s06t03.ra    0.000000          28.598500        ra-object-orient\n",
       "30  s06t03.ra   28.598500          57.197000  ra-object-switch-hands\n",
       "31  s06t03.ra   57.197000          85.795500         ra-object-place\n",
       "32  s06t03.ra   85.795500         114.394000         ra-object-carry\n",
       "33  s06t03.ra  114.394000         142.992500          ra-object-pick\n",
       "34  s06t03.ra  142.992500         171.591000              ra-nothing\n",
       "35  s06t04.la    0.000000          22.459333              la-nothing\n",
       "36  s06t04.la   22.459333          44.918667          la-object-pick\n",
       "37  s06t04.la   44.918667          67.378000  la-object-switch-hands\n",
       "38  s06t04.la   67.378000          89.837333        la-object-orient\n",
       "39  s06t04.la   89.837333         112.296667         la-object-place\n",
       "40  s06t04.la  112.296667         134.756000         la-object-carry\n",
       "41  s06t04.ra    0.000000          22.459333        ra-object-orient\n",
       "42  s06t04.ra   22.459333          44.918667  ra-object-switch-hands\n",
       "43  s06t04.ra   44.918667          67.378000         ra-object-place\n",
       "44  s06t04.ra   67.378000          89.837333         ra-object-carry\n",
       "45  s06t04.ra   89.837333         112.296667          ra-object-pick\n",
       "46  s06t04.ra  112.296667         134.756000              ra-nothing\n",
       "47  s06t05.la    0.000000          47.186000              la-nothing\n",
       "48  s06t05.la   47.186000          94.372000          la-object-pick\n",
       "49  s06t05.la   94.372000         141.558000  la-object-switch-hands\n",
       "50  s06t05.la  141.558000         188.744000        la-object-orient\n",
       "51  s06t05.la  188.744000         235.930000         la-object-place\n",
       "52  s06t05.la  235.930000         283.116000         la-object-carry\n",
       "53  s06t05.ra    0.000000          47.186000        ra-object-orient\n",
       "54  s06t05.ra   47.186000          94.372000  ra-object-switch-hands\n",
       "55  s06t05.ra   94.372000         141.558000         ra-object-place\n",
       "56  s06t05.ra  141.558000         188.744000         ra-object-carry\n",
       "57  s06t05.ra  188.744000         235.930000          ra-object-pick\n",
       "58  s06t05.ra  235.930000         283.116000              ra-nothing>"
      ]
     },
     "execution_count": 7,
     "metadata": {},
     "output_type": "execute_result"
    }
   ],
   "source": [
    "data.head"
   ]
  }
 ],
 "metadata": {
  "kernelspec": {
   "display_name": "Python 3",
   "language": "python",
   "name": "python3"
  },
  "language_info": {
   "codemirror_mode": {
    "name": "ipython",
    "version": 3
   },
   "file_extension": ".py",
   "mimetype": "text/x-python",
   "name": "python",
   "nbconvert_exporter": "python",
   "pygments_lexer": "ipython3",
   "version": "3.8.2"
  }
 },
 "nbformat": 4,
 "nbformat_minor": 4
}
