{
 "cells": [
  {
   "cell_type": "code",
   "execution_count": null,
   "metadata": {},
   "outputs": [],
   "source": [
    "import numpy as np\n",
    "import pandas as pd\n",
    "import datetime as dt"
   ]
  },
  {
   "cell_type": "code",
   "execution_count": null,
   "metadata": {},
   "outputs": [],
   "source": [
    "labels = pd.read_csv('train/labels.train.csv',names=['Datasets', 'Start time', 'End time', 'Action'])\n",
    "train_mocap1 = pd.read_csv('train/mocap/s01t01.mocap.csv')\n",
    "train_emg1 = pd.read_csv('train/emg/s01t01.emg.csv')"
   ]
  },
  {
   "cell_type": "code",
   "execution_count": null,
   "metadata": {},
   "outputs": [],
   "source": [
    "train_emg1['code'] = 's01t01'\n",
    "train_mocap1['code'] = 's01t01'\n",
    "ts = train_emg1['ts']\n"
   ]
  },
  {
   "cell_type": "code",
   "execution_count": null,
   "metadata": {},
   "outputs": [],
   "source": [
    "labels"
   ]
  },
  {
   "cell_type": "code",
   "execution_count": null,
   "metadata": {},
   "outputs": [],
   "source": [
    "#pd.get_dummies(example_label['Action']).head()"
   ]
  },
  {
   "cell_type": "code",
   "execution_count": null,
   "metadata": {},
   "outputs": [],
   "source": [
    "train_emg1 = train_emg1.set_index('ts')\n",
    "train_mocap1 = train_mocap1.set_index('ts')\n"
   ]
  },
  {
   "cell_type": "code",
   "execution_count": null,
   "metadata": {},
   "outputs": [],
   "source": [
    "data = pd.concat([train_emg1,train_mocap1], axis=1).fillna(method='ffill')\n",
    "list(data.columns)"
   ]
  },
  {
   "cell_type": "code",
   "execution_count": null,
   "metadata": {
    "scrolled": true
   },
   "outputs": [],
   "source": [
    "data = pd.concat([train_emg1,train_mocap1], axis=1).fillna(method='ffill')\n",
    "data = data.drop(['Hip_Rotation_X',\n",
    " 'Hip_Rotation_Y',\n",
    " 'Hip_Rotation_Z',\n",
    " 'Hip_Rotation_W',\n",
    " 'Hip_Position_X',\n",
    " 'Hip_Position_Y',\n",
    " 'Hip_Position_Z',\n",
    " 'Ab_Rotation_X',\n",
    " 'Ab_Rotation_Y',\n",
    " 'Ab_Rotation_Z',\n",
    " 'Ab_Rotation_W',\n",
    " 'Ab_Position_X',\n",
    " 'Ab_Position_Y',\n",
    " 'Ab_Position_Z',\n",
    " 'Chest_Rotation_X',\n",
    " 'Chest_Rotation_Y',\n",
    " 'Chest_Rotation_Z',\n",
    " 'Chest_Rotation_W',\n",
    " 'Chest_Position_X',\n",
    " 'Chest_Position_Y',\n",
    " 'Chest_Position_Z',\n",
    " 'Neck_Rotation_X',\n",
    " 'Neck_Rotation_Y',\n",
    " 'Neck_Rotation_Z',\n",
    " 'Neck_Rotation_W',\n",
    " 'Neck_Position_X',\n",
    " 'Neck_Position_Y',\n",
    " 'Neck_Position_Z',\n",
    " 'Head_Rotation_X',\n",
    " 'Head_Rotation_Y',\n",
    " 'Head_Rotation_Z',\n",
    " 'Head_Rotation_W',\n",
    " 'Head_Position_X',\n",
    " 'Head_Position_Y',\n",
    " 'Head_Position_Z',\n",
    " 'LThigh_Rotation_X',\n",
    " 'LThigh_Rotation_Y',\n",
    " 'LThigh_Rotation_Z',\n",
    " 'LThigh_Rotation_W',\n",
    " 'LThigh_Position_X',\n",
    " 'LThigh_Position_Y',\n",
    " 'LThigh_Position_Z',\n",
    " 'LShin_Rotation_X',\n",
    " 'LShin_Rotation_Y',\n",
    " 'LShin_Rotation_Z',\n",
    " 'LShin_Rotation_W',\n",
    " 'LShin_Position_X',\n",
    " 'LShin_Position_Y',\n",
    " 'LShin_Position_Z',\n",
    " 'LFoot_Rotation_X',\n",
    " 'LFoot_Rotation_Y',\n",
    " 'LFoot_Rotation_Z',\n",
    " 'LFoot_Rotation_W',\n",
    " 'LFoot_Position_X',\n",
    " 'LFoot_Position_Y',\n",
    " 'LFoot_Position_Z',\n",
    " 'RThigh_Rotation_X',\n",
    " 'RThigh_Rotation_Y',\n",
    " 'RThigh_Rotation_Z',\n",
    " 'RThigh_Rotation_W',\n",
    " 'RThigh_Position_X',\n",
    " 'RThigh_Position_Y',\n",
    " 'RThigh_Position_Z',\n",
    " 'RShin_Rotation_X',\n",
    " 'RShin_Rotation_Y',\n",
    " 'RShin_Rotation_Z',\n",
    " 'RShin_Rotation_W',\n",
    " 'RShin_Position_X',\n",
    " 'RShin_Position_Y',\n",
    " 'RShin_Position_Z',\n",
    " 'RFoot_Rotation_X',\n",
    " 'RFoot_Rotation_Y',\n",
    " 'RFoot_Rotation_Z',\n",
    " 'RFoot_Rotation_W',\n",
    " 'RFoot_Position_X',\n",
    " 'RFoot_Position_Y',\n",
    " 'RFoot_Position_Z',\n",
    " 'LToe_Rotation_X',\n",
    " 'LToe_Rotation_Y',\n",
    " 'LToe_Rotation_Z',\n",
    " 'LToe_Rotation_W',\n",
    " 'LToe_Position_X',\n",
    " 'LToe_Position_Y',\n",
    " 'LToe_Position_Z',\n",
    " 'RToe_Rotation_X',\n",
    " 'RToe_Rotation_Y',\n",
    " 'RToe_Rotation_Z',\n",
    " 'RToe_Rotation_W',\n",
    " 'RToe_Position_X',\n",
    " 'RToe_Position_Y',\n",
    " 'RToe_Position_Z',], axis=1)\n",
    "data"
   ]
  },
  {
   "cell_type": "code",
   "execution_count": null,
   "metadata": {},
   "outputs": [],
   "source": [
    "ra1 = labels.loc[labels['Datasets'].str.contains('s01t01.ra')].rename({'Action':'RL'},axis='columns')\n",
    "la1 = labels.loc[labels['Datasets'].str.contains('s01t01.la')].rename({'Action':'LL'},axis='columns')"
   ]
  },
  {
   "cell_type": "code",
   "execution_count": null,
   "metadata": {},
   "outputs": [],
   "source": [
    "ts.loc[ts==9.43]"
   ]
  },
  {
   "cell_type": "code",
   "execution_count": null,
   "metadata": {
    "scrolled": true
   },
   "outputs": [],
   "source": [
    "la1['Start time']"
   ]
  },
  {
   "cell_type": "code",
   "execution_count": null,
   "metadata": {},
   "outputs": [],
   "source": [
    "data = pd.concat([data, la1.set_index('Start time'), ra1.set_index('Start time')],axis=1).fillna(method='ffill')\n",
    "data[20:100]"
   ]
  },
  {
   "cell_type": "code",
   "execution_count": null,
   "metadata": {},
   "outputs": [],
   "source": [
    "data = pd.get_dummies(data, columns=['RL','LL'])\n"
   ]
  },
  {
   "cell_type": "code",
   "execution_count": null,
   "metadata": {},
   "outputs": [],
   "source": [
    "data.head(20)"
   ]
  },
  {
   "cell_type": "code",
   "execution_count": null,
   "metadata": {},
   "outputs": [],
   "source": [
    "data.iloc[:20,-20:]"
   ]
  },
  {
   "cell_type": "code",
   "execution_count": null,
   "metadata": {},
   "outputs": [],
   "source": []
  }
 ],
 "metadata": {
  "kernelspec": {
   "display_name": "Python 3",
   "language": "python",
   "name": "python3"
  },
  "language_info": {
   "codemirror_mode": {
    "name": "ipython",
    "version": 3
   },
   "file_extension": ".py",
   "mimetype": "text/x-python",
   "name": "python",
   "nbconvert_exporter": "python",
   "pygments_lexer": "ipython3",
   "version": "3.8.2"
  }
 },
 "nbformat": 4,
 "nbformat_minor": 4
}
