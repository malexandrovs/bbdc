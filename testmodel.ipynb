{
 "cells": [
  {
   "cell_type": "code",
   "execution_count": 6,
   "metadata": {},
   "outputs": [],
   "source": [
    "import numpy as np\n",
    "import pandas as pd\n",
    "import keras\n",
    "import glob\n",
    "import random\n"
   ]
  },
  {
   "cell_type": "code",
   "execution_count": 64,
   "metadata": {},
   "outputs": [
    {
     "name": "stdout",
     "output_type": "stream",
     "text": [
      "training data loaded\n",
      "start fitting\n",
      "Epoch 1/50\n",
      "10000/10000 [==============================] - 0s 40us/step - loss: 4.3958 - accuracy: 0.0588\n",
      "Epoch 2/50\n",
      "10000/10000 [==============================] - 0s 34us/step - loss: 4.0024 - accuracy: 0.0000e+00\n",
      "Epoch 3/50\n",
      "10000/10000 [==============================] - 0s 37us/step - loss: 3.8470 - accuracy: 0.0000e+00\n",
      "Epoch 4/50\n",
      "10000/10000 [==============================] - 0s 35us/step - loss: 3.7777 - accuracy: 0.0000e+00\n",
      "Epoch 5/50\n",
      "10000/10000 [==============================] - 0s 34us/step - loss: 3.7458 - accuracy: 0.0000e+00\n",
      "Epoch 6/50\n",
      "10000/10000 [==============================] - 0s 34us/step - loss: 3.7312 - accuracy: 0.0000e+00\n",
      "Epoch 7/50\n",
      "10000/10000 [==============================] - 0s 35us/step - loss: 3.7245 - accuracy: 0.0000e+00\n",
      "Epoch 8/50\n",
      "10000/10000 [==============================] - 0s 44us/step - loss: 3.7222 - accuracy: 0.0000e+00\n",
      "Epoch 9/50\n",
      "10000/10000 [==============================] - 0s 40us/step - loss: 3.7234 - accuracy: 0.0000e+00\n",
      "Epoch 10/50\n",
      "10000/10000 [==============================] - 0s 41us/step - loss: 3.7270 - accuracy: 0.0000e+00\n",
      "Epoch 11/50\n",
      "10000/10000 [==============================] - 0s 40us/step - loss: 3.7305 - accuracy: 0.0000e+00\n",
      "Epoch 12/50\n",
      "10000/10000 [==============================] - 0s 40us/step - loss: 3.7362 - accuracy: 0.0000e+00\n",
      "Epoch 13/50\n",
      "10000/10000 [==============================] - 0s 38us/step - loss: 3.7408 - accuracy: 0.0000e+00\n",
      "Epoch 14/50\n",
      "10000/10000 [==============================] - 0s 39us/step - loss: 3.7476 - accuracy: 0.0000e+00\n",
      "Epoch 15/50\n",
      "10000/10000 [==============================] - 0s 37us/step - loss: 3.7544 - accuracy: 0.0000e+00\n",
      "Epoch 16/50\n",
      "10000/10000 [==============================] - 0s 38us/step - loss: 3.7616 - accuracy: 0.0000e+00\n",
      "Epoch 17/50\n",
      "10000/10000 [==============================] - 0s 40us/step - loss: 3.7673 - accuracy: 0.0000e+00\n",
      "Epoch 18/50\n",
      "10000/10000 [==============================] - 0s 39us/step - loss: 3.7740 - accuracy: 0.0000e+00\n",
      "Epoch 19/50\n",
      "10000/10000 [==============================] - 0s 38us/step - loss: 3.7802 - accuracy: 0.0000e+00\n",
      "Epoch 20/50\n",
      "10000/10000 [==============================] - 0s 35us/step - loss: 3.7869 - accuracy: 0.0000e+00\n",
      "Epoch 21/50\n",
      "10000/10000 [==============================] - 0s 33us/step - loss: 3.7958 - accuracy: 0.0000e+00\n",
      "Epoch 22/50\n",
      "10000/10000 [==============================] - 0s 34us/step - loss: 3.8040 - accuracy: 0.0000e+00\n",
      "Epoch 23/50\n",
      "10000/10000 [==============================] - 0s 34us/step - loss: 3.8099 - accuracy: 0.0000e+00\n",
      "Epoch 24/50\n",
      "10000/10000 [==============================] - 0s 35us/step - loss: 3.8163 - accuracy: 0.0000e+00\n",
      "Epoch 25/50\n",
      "10000/10000 [==============================] - 0s 36us/step - loss: 3.8273 - accuracy: 0.0000e+00\n",
      "Epoch 26/50\n",
      "10000/10000 [==============================] - 0s 34us/step - loss: 3.8347 - accuracy: 0.0000e+00\n",
      "Epoch 27/50\n",
      "10000/10000 [==============================] - 0s 37us/step - loss: 3.8414 - accuracy: 0.0000e+00\n",
      "Epoch 28/50\n",
      "10000/10000 [==============================] - 0s 37us/step - loss: 3.8483 - accuracy: 0.0000e+00\n",
      "Epoch 29/50\n",
      "10000/10000 [==============================] - 0s 38us/step - loss: 3.8571 - accuracy: 0.0000e+00\n",
      "Epoch 30/50\n",
      "10000/10000 [==============================] - 0s 40us/step - loss: 3.8645 - accuracy: 0.0000e+00\n",
      "Epoch 31/50\n",
      "10000/10000 [==============================] - 0s 39us/step - loss: 3.8754 - accuracy: 0.0000e+00\n",
      "Epoch 32/50\n",
      "10000/10000 [==============================] - 0s 43us/step - loss: 3.8800 - accuracy: 0.0000e+00\n",
      "Epoch 33/50\n",
      "10000/10000 [==============================] - 0s 45us/step - loss: 3.8902 - accuracy: 0.0000e+00\n",
      "Epoch 34/50\n",
      "10000/10000 [==============================] - 0s 42us/step - loss: 3.8973 - accuracy: 0.0000e+00\n",
      "Epoch 35/50\n",
      "10000/10000 [==============================] - 0s 38us/step - loss: 3.9059 - accuracy: 0.0000e+00\n",
      "Epoch 36/50\n",
      "10000/10000 [==============================] - 0s 38us/step - loss: 3.9123 - accuracy: 0.0000e+00\n",
      "Epoch 37/50\n",
      "10000/10000 [==============================] - 0s 39us/step - loss: 3.9208 - accuracy: 0.0000e+00\n",
      "Epoch 38/50\n",
      "10000/10000 [==============================] - 0s 42us/step - loss: 3.9288 - accuracy: 0.0000e+00\n",
      "Epoch 39/50\n",
      "10000/10000 [==============================] - 0s 41us/step - loss: 3.9339 - accuracy: 0.0000e+00\n",
      "Epoch 40/50\n",
      "10000/10000 [==============================] - 0s 44us/step - loss: 3.9415 - accuracy: 0.0000e+00\n",
      "Epoch 41/50\n",
      "10000/10000 [==============================] - 0s 45us/step - loss: 3.9462 - accuracy: 0.0000e+00\n",
      "Epoch 42/50\n",
      "10000/10000 [==============================] - 0s 40us/step - loss: 3.9565 - accuracy: 0.0000e+00\n",
      "Epoch 43/50\n",
      "10000/10000 [==============================] - 0s 38us/step - loss: 3.9640 - accuracy: 0.0000e+00\n",
      "Epoch 44/50\n",
      "10000/10000 [==============================] - 0s 35us/step - loss: 3.9698 - accuracy: 0.0000e+00\n",
      "Epoch 45/50\n",
      "10000/10000 [==============================] - 0s 35us/step - loss: 3.9793 - accuracy: 0.0000e+00\n",
      "Epoch 46/50\n",
      "10000/10000 [==============================] - 0s 38us/step - loss: 3.9832 - accuracy: 0.0000e+00\n",
      "Epoch 47/50\n",
      "10000/10000 [==============================] - 0s 36us/step - loss: 3.9928 - accuracy: 0.0000e+00\n",
      "Epoch 48/50\n",
      "10000/10000 [==============================] - 0s 36us/step - loss: 3.9988 - accuracy: 0.0000e+00\n",
      "Epoch 49/50\n",
      "10000/10000 [==============================] - 0s 35us/step - loss: 4.0040 - accuracy: 0.0000e+00\n",
      "Epoch 50/50\n",
      "10000/10000 [==============================] - 0s 36us/step - loss: 4.0134 - accuracy: 0.0000e+00\n",
      "save model\n",
      "model saved \n"
     ]
    }
   ],
   "source": [
    "train = pd.read_csv('../all_training.csv', index_col=0, nrows=10000).drop(['code'],axis=1)\n",
    "print('training data loaded')\n",
    "#print(list(train.columns.drop(['code'])))\n",
    "\n",
    "model = keras.Sequential()\n",
    "#model.add(keras.layers.LSTM(28, input_shape=(train.iloc[:,:-12].shape)))\n",
    "#model.add(keras.layers.Dropout(0.1))\n",
    "model.add(keras.layers.Dense(50, input_shape=(274,),activation='softmax'))\n",
    "#model.add(keras.layers.Dense(50, activation='softmax'))\n",
    "model.add(keras.layers.Dense(12,activation='softmax'))\n",
    "model.compile(loss='categorical_crossentropy', optimizer='adam', metrics=['accuracy'])\n",
    "print('start fitting')\n",
    "model.fit(np.nan_to_num(train.iloc[:,:-12].to_numpy()),train.iloc[:,-12:].to_numpy(),epochs=50, batch_size=32)\n",
    "print('save model')\n",
    "model.save('model.HDF5')\n",
    "print('model saved ')"
   ]
  },
  {
   "cell_type": "code",
   "execution_count": 12,
   "metadata": {},
   "outputs": [
    {
     "data": {
      "text/plain": [
       "(10000, 12)"
      ]
     },
     "execution_count": 12,
     "metadata": {},
     "output_type": "execute_result"
    }
   ],
   "source": [
    "train.iloc[:,-12:].to_numpy().shape"
   ]
  },
  {
   "cell_type": "code",
   "execution_count": 58,
   "metadata": {
    "scrolled": true
   },
   "outputs": [
    {
     "data": {
      "text/plain": [
       "array([[False, False, False, ..., False, False, False],\n",
       "       [False, False, False, ..., False, False, False],\n",
       "       [False, False, False, ..., False, False, False],\n",
       "       ...,\n",
       "       [False, False, False, ..., False, False, False],\n",
       "       [False, False, False, ..., False, False, False],\n",
       "       [False, False, False, ..., False, False, False]])"
      ]
     },
     "execution_count": 58,
     "metadata": {},
     "output_type": "execute_result"
    }
   ],
   "source": [
    "(np.isnan(train.iloc[:,:-12].to_numpy()))"
   ]
  },
  {
   "cell_type": "code",
   "execution_count": 52,
   "metadata": {},
   "outputs": [
    {
     "data": {
      "text/plain": [
       "0.000000   NaN\n",
       "0.001667   NaN\n",
       "0.003333   NaN\n",
       "0.005000   NaN\n",
       "0.006667   NaN\n",
       "            ..\n",
       "0.825000   NaN\n",
       "0.826667   NaN\n",
       "0.828333   NaN\n",
       "0.830000   NaN\n",
       "0.831667   NaN\n",
       "Name: LHand_Rotation_X, Length: 500, dtype: float64"
      ]
     },
     "execution_count": 52,
     "metadata": {},
     "output_type": "execute_result"
    }
   ],
   "source": [
    "train.iloc[:,29].head(500)"
   ]
  }
 ],
 "metadata": {
  "kernelspec": {
   "display_name": "Python 3",
   "language": "python",
   "name": "python3"
  },
  "language_info": {
   "codemirror_mode": {
    "name": "ipython",
    "version": 3
   },
   "file_extension": ".py",
   "mimetype": "text/x-python",
   "name": "python",
   "nbconvert_exporter": "python",
   "pygments_lexer": "ipython3",
   "version": "3.8.2"
  }
 },
 "nbformat": 4,
 "nbformat_minor": 4
}
