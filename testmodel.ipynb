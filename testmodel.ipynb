{
 "cells": [
  {
   "cell_type": "code",
   "execution_count": null,
   "metadata": {},
   "outputs": [],
   "source": [
    "import numpy as np\n",
    "import pandas as pd\n",
    "import keras\n",
    "import glob\n",
    "import random\n",
    "from keras.optimizers import SGD"
   ]
  },
  {
   "cell_type": "code",
   "execution_count": null,
   "metadata": {},
   "outputs": [],
   "source": [
    "train = pd.read_csv('../all_training.csv', index_col=0, nrows=300000).drop(['code'],axis=1)\n",
    "print('training data loaded')\n"
   ]
  },
  {
   "cell_type": "markdown",
   "metadata": {},
   "source": [
    "np.argwhere(np.isinf(trainar))\n",
    "np.isnan(np.inf)"
   ]
  },
  {
   "cell_type": "code",
   "execution_count": null,
   "metadata": {},
   "outputs": [],
   "source": [
    "trainar = np.nan_to_num(train.iloc[:,:-12].to_numpy()).reshape(300000,1,274)\n",
    "labels = np.nan_to_num(train.iloc[:,-12:].to_numpy())\n",
    "trainar.shape"
   ]
  },
  {
   "cell_type": "code",
   "execution_count": null,
   "metadata": {},
   "outputs": [],
   "source": [
    "trainar = (trainar - np.min(trainar))/ (np.max(trainar) - np.min(trainar))"
   ]
  },
  {
   "cell_type": "code",
   "execution_count": null,
   "metadata": {},
   "outputs": [],
   "source": [
    "model = keras.Sequential()\n",
    "model.add(keras.layers.LSTM(20, input_shape=(1,274)))\n",
    "model.add(keras.layers.Dense(100, activation='softmax'))\n",
    "model.add(keras.layers.Dense(150, activation='softmax'))\n",
    "model.add(keras.layers.Dense(300, activation='softmax'))\n",
    "model.add(keras.layers.Dense(1000, activation='softmax'))\n",
    "model.add(keras.layers.Dense(800, activation='softmax'))\n",
    "model.add(keras.layers.Dense(600, activation='softmax'))\n",
    "model.add(keras.layers.Dense(100, activation='softmax'))\n",
    "model.add(keras.layers.Dense(12,activation='softmax'))\n",
    "model.compile(loss='categorical_crossentropy', optimizer=keras.optimizers.Adam(lr=0.0001), metrics=['accuracy'])\n"
   ]
  },
  {
   "cell_type": "code",
   "execution_count": null,
   "metadata": {
    "scrolled": true
   },
   "outputs": [],
   "source": [
    "\n",
    "print('start fitting')\n",
    "model.fit(trainar,labels,epochs=100, batch_size=6, shuffle=False, validation_split=0.3)\n",
    "model.fit\n"
   ]
  },
  {
   "cell_type": "code",
   "execution_count": null,
   "metadata": {},
   "outputs": [],
   "source": [
    "print('save model')\n",
    "model.save('model.HDF5')\n",
    "print('model saved ')"
   ]
  },
  {
   "cell_type": "code",
   "execution_count": null,
   "metadata": {},
   "outputs": [],
   "source": []
  },
  {
   "cell_type": "code",
   "execution_count": null,
   "metadata": {},
   "outputs": [],
   "source": []
  }
 ],
 "metadata": {
  "kernelspec": {
   "display_name": "Python 3",
   "language": "python",
   "name": "python3"
  },
  "language_info": {
   "codemirror_mode": {
    "name": "ipython",
    "version": 3
   },
   "file_extension": ".py",
   "mimetype": "text/x-python",
   "name": "python",
   "nbconvert_exporter": "python",
   "pygments_lexer": "ipython3",
   "version": "3.8.2"
  }
 },
 "nbformat": 4,
 "nbformat_minor": 4
}
